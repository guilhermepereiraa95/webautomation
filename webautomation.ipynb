{
 "cells": [
  {
   "cell_type": "code",
   "execution_count": null,
   "id": "d2c3746a",
   "metadata": {},
   "outputs": [],
   "source": [
    "#Simples script de automação web "
   ]
  },
  {
   "cell_type": "code",
   "execution_count": 13,
   "id": "4153cbb0",
   "metadata": {},
   "outputs": [],
   "source": [
    "from selenium import webdriver\n",
    "\n",
    "browser = webdriver.Chrome()\n",
    "\n",
    "browser.get(\"https://ri.magazineluiza.com.br/\")\n",
    "\n",
    "browser.find_element_by_xpath('//*[@id=\"owl-destaques\"]/div[1]/div/div[4]/div/a/p').click()\n",
    "\n",
    "\n",
    "browser.find_element_by_xpath('//*[@id=\"qh+HU4D7Db023fFZvApelg==\"]').click()\n",
    "\n"
   ]
  }
 ],
 "metadata": {
  "kernelspec": {
   "display_name": "Python 3",
   "language": "python",
   "name": "python3"
  },
  "language_info": {
   "codemirror_mode": {
    "name": "ipython",
    "version": 3
   },
   "file_extension": ".py",
   "mimetype": "text/x-python",
   "name": "python",
   "nbconvert_exporter": "python",
   "pygments_lexer": "ipython3",
   "version": "3.8.8"
  }
 },
 "nbformat": 4,
 "nbformat_minor": 5
}
